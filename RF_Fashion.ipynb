{
  "nbformat": 4,
  "nbformat_minor": 0,
  "metadata": {
    "colab": {
      "name": "RF_Fashion.ipynb",
      "version": "0.3.2",
      "provenance": [],
      "collapsed_sections": []
    },
    "kernelspec": {
      "name": "python3",
      "display_name": "Python 3"
    }
  },
  "cells": [
    {
      "cell_type": "markdown",
      "metadata": {
        "id": "bZ3DrxAetwOC",
        "colab_type": "text"
      },
      "source": [
        "## Fashion MNIST adatset Adaboost klasszifikáció "
      ]
    },
    {
      "cell_type": "markdown",
      "metadata": {
        "id": "yvjXnUb5t8mR",
        "colab_type": "text"
      },
      "source": [
        "### Adatok feltöltése"
      ]
    },
    {
      "cell_type": "code",
      "metadata": {
        "id": "yry-FBWECxpc",
        "colab_type": "code",
        "colab": {}
      },
      "source": [
        "from google.colab import files\n",
        "\n",
        "uploaded = files.upload()"
      ],
      "execution_count": 0,
      "outputs": []
    },
    {
      "cell_type": "markdown",
      "metadata": {
        "id": "4j0JwnHRuIHC",
        "colab_type": "text"
      },
      "source": [
        "### Adatok betöltése"
      ]
    },
    {
      "cell_type": "code",
      "metadata": {
        "id": "3g4gGu5YIpkd",
        "colab_type": "code",
        "colab": {}
      },
      "source": [
        "import pandas as pd\n",
        "\n",
        "df = pd.read_csv('fashion-mnist_train.csv')\n",
        "test =  pd.read_csv('fashion-mnist_test.csv')"
      ],
      "execution_count": 0,
      "outputs": []
    },
    {
      "cell_type": "markdown",
      "metadata": {
        "id": "ntW4xUX-uMzq",
        "colab_type": "text"
      },
      "source": [
        "### Adatok előkészítése"
      ]
    },
    {
      "cell_type": "code",
      "metadata": {
        "id": "Oea8OSzmJoqm",
        "colab_type": "code",
        "colab": {}
      },
      "source": [
        "from sklearn.preprocessing import label_binarize\n",
        "\n",
        "y=df['label']\n",
        "y_bin = label_binarize(y, classes=[0,1,2,3,4,5,6,7,8,9])\n",
        "X=df.drop('label', axis=1)\n",
        "X=X/255\n",
        "\n",
        "y_test=test['label']\n",
        "y_test_bin = label_binarize(y_test, classes=[0,1,2,3,4,5,6,7,8,9])\n",
        "X_test=test.drop('label', axis=1)\n",
        "X_test=X_test/255"
      ],
      "execution_count": 0,
      "outputs": []
    },
    {
      "cell_type": "markdown",
      "metadata": {
        "id": "OcRYcrfTudMh",
        "colab_type": "text"
      },
      "source": [
        "### Dimenzió csökkentés\n",
        "\n",
        "Szinguláris érték felbontással 784 dimenziós adatokból kiválasztotjuk a 20 főkomponenst."
      ]
    },
    {
      "cell_type": "code",
      "metadata": {
        "id": "eEr0wgd7PyWd",
        "colab_type": "code",
        "colab": {}
      },
      "source": [
        "from sklearn.decomposition import TruncatedSVD\n",
        "\n",
        "svd = TruncatedSVD(n_components=20, n_iter=7, random_state=42)\n",
        "svd.fit(X)\n",
        "X=svd.transform(X)\n",
        "\n",
        "svd.fit(X_test)\n",
        "X_test=svd.transform(X_test)"
      ],
      "execution_count": 0,
      "outputs": []
    },
    {
      "cell_type": "markdown",
      "metadata": {
        "id": "d7kSuUZKvI5S",
        "colab_type": "text"
      },
      "source": [
        "### Paraméterek keresése \n",
        "Random foresthez mélységhez és a fák számosságára paraméterkeresés."
      ]
    },
    {
      "cell_type": "code",
      "metadata": {
        "id": "7ffuVdZTlTbH",
        "colab_type": "code",
        "outputId": "712b4293-c59f-4a9f-e2fd-f27f18316987",
        "colab": {
          "base_uri": "https://localhost:8080/",
          "height": 51
        }
      },
      "source": [
        "from sklearn.ensemble import AdaBoostClassifier\n",
        "from sklearn.ensemble import RandomForestClassifier\n",
        "from sklearn.model_selection import GridSearchCV\n",
        "\n",
        "param_gridrf = {\"max_depth\" : [1,2,3,5],\n",
        "              \"n_estimators\": [5,20,50,100]\n",
        "             }\n",
        "\n",
        "rdf = RandomForestClassifier(random_state=42)\n",
        "\n",
        "gsrf = GridSearchCV(rdf, param_grid=param_gridrf, cv=3, n_jobs=-1, scoring='accuracy')\n",
        "gsrf.fit(X,y_bin)\n",
        "\n",
        "\n",
        "print(gsrf.best_params_)\n",
        "print(gsrf.best_score_)"
      ],
      "execution_count": 0,
      "outputs": [
        {
          "output_type": "stream",
          "text": [
            "{'max_depth': 5, 'n_estimators': 100}\n",
            "0.41975\n"
          ],
          "name": "stdout"
        }
      ]
    },
    {
      "cell_type": "code",
      "metadata": {
        "id": "iv_wKvFq8ooq",
        "colab_type": "code",
        "colab": {
          "base_uri": "https://localhost:8080/",
          "height": 70
        },
        "outputId": "ab4af274-bfba-4ef8-9d13-7b27fda6bce2"
      },
      "source": [
        "from sklearn.decomposition import TruncatedSVD\n",
        "from sklearn.ensemble import RandomForestClassifier\n",
        "from sklearn.metrics import accuracy_score\n",
        "import matplotlib.pyplot as plt\n",
        "\n",
        "rdf = RandomForestClassifier(max_depth=5, n_estimators=100, random_state=42)\n",
        "rdf.fit(X,y)\n",
        "predrf = rdf.predict(X_test)\n",
        "\n",
        "#Kitérő plothoz\n",
        "svdsek=[]\n",
        "eredetin=[]\n",
        "rangok = [1,2,3,4,5,6,7,8,9,10,11,12,13,14,15,20,25,30,40,50,60,70,80,90,100]\n",
        "for i in rangok:\n",
        " \n",
        "\n",
        "  svd = TruncatedSVD(n_components=i, n_iter=7, random_state=42)\n",
        "  svd.fit(X)\n",
        "  X_svd=svd.transform(X)\n",
        "\n",
        "  svd.fit(X_test)\n",
        "  X_test_svd=svd.transform(X_test)\n",
        "  \n",
        "  rdfsvd = RandomForestClassifier(max_depth=5, n_estimators=100, random_state=42)\n",
        "  rdfsvd.fit(X_svd,y)\n",
        "  \n",
        "  predsvded = rdfsvd.predict(X_test_svd)\n",
        "  svdsek.append(accuracy_score(y_test, predsvded))\n",
        "  eredetin.append(accuracy_score(y_test, predrf))\n",
        "  \n",
        "print(eredetin)\n",
        "print(svdsek)"
      ],
      "execution_count": 7,
      "outputs": [
        {
          "output_type": "stream",
          "text": [
            "[0.7618, 0.7618, 0.7618, 0.7618, 0.7618, 0.7618, 0.7618, 0.7618, 0.7618, 0.7618, 0.7618, 0.7618, 0.7618, 0.7618, 0.7618, 0.7618, 0.7618, 0.7618, 0.7618, 0.7618, 0.7618, 0.7618, 0.7618, 0.7618, 0.7618]\n",
            "[0.2842, 0.5364, 0.6104, 0.6742, 0.6973, 0.7062, 0.7132, 0.7096, 0.717, 0.7241, 0.7331, 0.7304, 0.7295, 0.7322, 0.7358, 0.7433, 0.7399, 0.7419, 0.742, 0.7339, 0.742, 0.7411, 0.7482, 0.74, 0.7401]\n"
          ],
          "name": "stdout"
        }
      ]
    },
    {
      "cell_type": "code",
      "metadata": {
        "id": "-ZiVpTIQDBJv",
        "colab_type": "code",
        "colab": {
          "base_uri": "https://localhost:8080/",
          "height": 325
        },
        "outputId": "6a67a186-9132-4a0d-fb20-74c4f553c2f3"
      },
      "source": [
        "from sklearn.metrics import confusion_matrix\n",
        "import numpy as np\n",
        "import itertools\n",
        "\n",
        "classes = {0: 'Póló',1: 'Nadrág',2: 'Pulóver',3: 'Ruha',4: 'Kabát',5: 'Szandál',6: 'Ing',7: 'Cipő',8: 'Táska',9: 'Csizma'}\n",
        "num_classes         = len(classes)\n",
        "classes_fashion     = ['Póló','Nadrág','Pulóver','Ruha','Kabát','Szandál','Ing','Cipő','Táska','Csizma']\n",
        "\n",
        "predictions = predrf\n",
        "cm=confusion_matrix(y_test, predictions)\n",
        "\n",
        "plt.imshow(cm, interpolation='nearest', cmap=plt.cm.Reds)\n",
        "plt.title('Konfúziós mátrix')\n",
        "tick_marks = np.arange(len(classes_fashion))\n",
        "plt.xticks(tick_marks, classes_fashion, rotation=90)\n",
        "plt.yticks(tick_marks, classes_fashion)\n",
        "\n",
        "fmt = 'd'\n",
        "thresh = cm.max() / 2.\n",
        "for i, j in itertools.product(range(cm.shape[0]), range(cm.shape[1])):\n",
        "  plt.text(j, i, format(cm[i, j], fmt), horizontalalignment=\"center\", color=\"white\" if cm[i, j] > thresh else \"black\")\n",
        "\n",
        "plt.ylabel('Valódi osztály')\n",
        "plt.xlabel('Prediktált osztály')\n",
        "plt.colorbar()\n",
        "plt.show()"
      ],
      "execution_count": 10,
      "outputs": [
        {
          "output_type": "display_data",
          "data": {
            "image/png": "[encoded data removed]",
            "text/plain": [
              "<Figure size 432x288 with 2 Axes>"
            ]
          },
          "metadata": {
            "tags": []
          }
        }
      ]
    }
  ]
}